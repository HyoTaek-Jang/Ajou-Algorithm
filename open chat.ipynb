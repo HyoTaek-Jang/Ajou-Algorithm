{
 "cells": [
  {
   "cell_type": "code",
   "execution_count": 25,
   "metadata": {},
   "outputs": [],
   "source": [
    "def solution(record):\n",
    "    nickname_dic = {}\n",
    "    uid_queue = []\n",
    "    action_queue = []\n",
    "    answer = []\n",
    "    for command in record:\n",
    "        name = None\n",
    "        parsed = command.split(' ')\n",
    "        if parsed[0] == 'Leave':\n",
    "            cmd = parsed[0]\n",
    "            uid = parsed[1]\n",
    "        else:\n",
    "            cmd = parsed[0]\n",
    "            uid = parsed[1]\n",
    "            name = parsed[2]\n",
    "        \n",
    "        \n",
    "        if cmd == 'Enter':\n",
    "            uid_queue.append(uid)\n",
    "            nickname_dic[uid] = name\n",
    "            action_queue.append(cmd)\n",
    "        elif cmd == 'Leave':\n",
    "            uid_queue.append(uid)\n",
    "            action_queue.append(cmd)\n",
    "        else:\n",
    "            nickname_dic[uid] = name\n",
    "    \n",
    "    for idx in range(len(action_queue)):\n",
    "        cmd = action_queue[idx]\n",
    "        uid = uid_queue[idx]\n",
    "        if cmd == 'Enter':\n",
    "            answer.append(str(dic[uid])+'님이 들어왔습니다.')\n",
    "        else:\n",
    "            answer.append(str(dic[uid])+'님이 나갔습니다.')\n",
    "    return answer\n",
    "    \n",
    "    "
   ]
  },
  {
   "cell_type": "code",
   "execution_count": 26,
   "metadata": {},
   "outputs": [
    {
     "ename": "NameError",
     "evalue": "name 'dic' is not defined",
     "output_type": "error",
     "traceback": [
      "\u001b[1;31m---------------------------------------------------------------------------\u001b[0m",
      "\u001b[1;31mNameError\u001b[0m                                 Traceback (most recent call last)",
      "\u001b[1;32m<ipython-input-26-4faac0836ea1>\u001b[0m in \u001b[0;36m<module>\u001b[1;34m\u001b[0m\n\u001b[1;32m----> 1\u001b[1;33m \u001b[0msolution\u001b[0m\u001b[1;33m(\u001b[0m\u001b[1;33m[\u001b[0m\u001b[1;34m\"Enter uid1234 Muzi\"\u001b[0m\u001b[1;33m,\u001b[0m \u001b[1;34m\"Enter uid4567 Prodo\"\u001b[0m\u001b[1;33m,\u001b[0m\u001b[1;34m\"Leave uid1234\"\u001b[0m\u001b[1;33m,\u001b[0m\u001b[1;34m\"Enter uid1234 Prodo\"\u001b[0m\u001b[1;33m,\u001b[0m\u001b[1;34m\"Change uid4567 Ryan\"\u001b[0m\u001b[1;33m]\u001b[0m\u001b[1;33m)\u001b[0m\u001b[1;33m\u001b[0m\u001b[1;33m\u001b[0m\u001b[0m\n\u001b[0m",
      "\u001b[1;32m<ipython-input-25-0777ebef727c>\u001b[0m in \u001b[0;36msolution\u001b[1;34m(record)\u001b[0m\n\u001b[0;32m     30\u001b[0m         \u001b[0muid\u001b[0m \u001b[1;33m=\u001b[0m \u001b[0muid_queue\u001b[0m\u001b[1;33m[\u001b[0m\u001b[0midx\u001b[0m\u001b[1;33m]\u001b[0m\u001b[1;33m\u001b[0m\u001b[1;33m\u001b[0m\u001b[0m\n\u001b[0;32m     31\u001b[0m         \u001b[1;32mif\u001b[0m \u001b[0mcmd\u001b[0m \u001b[1;33m==\u001b[0m \u001b[1;34m'Enter'\u001b[0m\u001b[1;33m:\u001b[0m\u001b[1;33m\u001b[0m\u001b[1;33m\u001b[0m\u001b[0m\n\u001b[1;32m---> 32\u001b[1;33m             \u001b[0manswer\u001b[0m\u001b[1;33m.\u001b[0m\u001b[0mappend\u001b[0m\u001b[1;33m(\u001b[0m\u001b[0mstr\u001b[0m\u001b[1;33m(\u001b[0m\u001b[0mdic\u001b[0m\u001b[1;33m[\u001b[0m\u001b[0muid\u001b[0m\u001b[1;33m]\u001b[0m\u001b[1;33m)\u001b[0m\u001b[1;33m+\u001b[0m\u001b[1;34m'님이 들어왔습니다.'\u001b[0m\u001b[1;33m)\u001b[0m\u001b[1;33m\u001b[0m\u001b[1;33m\u001b[0m\u001b[0m\n\u001b[0m\u001b[0;32m     33\u001b[0m         \u001b[1;32melse\u001b[0m\u001b[1;33m:\u001b[0m\u001b[1;33m\u001b[0m\u001b[1;33m\u001b[0m\u001b[0m\n\u001b[0;32m     34\u001b[0m             \u001b[0manswer\u001b[0m\u001b[1;33m.\u001b[0m\u001b[0mappend\u001b[0m\u001b[1;33m(\u001b[0m\u001b[0mstr\u001b[0m\u001b[1;33m(\u001b[0m\u001b[0mdic\u001b[0m\u001b[1;33m[\u001b[0m\u001b[0muid\u001b[0m\u001b[1;33m]\u001b[0m\u001b[1;33m)\u001b[0m\u001b[1;33m+\u001b[0m\u001b[1;34m'님이 나갔습니다.'\u001b[0m\u001b[1;33m)\u001b[0m\u001b[1;33m\u001b[0m\u001b[1;33m\u001b[0m\u001b[0m\n",
      "\u001b[1;31mNameError\u001b[0m: name 'dic' is not defined"
     ]
    }
   ],
   "source": [
    "solution([\"Enter uid1234 Muzi\", \"Enter uid4567 Prodo\",\"Leave uid1234\",\"Enter uid1234 Prodo\",\"Change uid4567 Ryan\"])"
   ]
  },
  {
   "cell_type": "code",
   "execution_count": 14,
   "metadata": {},
   "outputs": [
    {
     "data": {
      "text/plain": [
       "['asd', 'asd', 'asd']"
      ]
     },
     "execution_count": 14,
     "metadata": {},
     "output_type": "execute_result"
    }
   ],
   "source": [
    "'asd asd asd'.split(' ')"
   ]
  },
  {
   "cell_type": "code",
   "execution_count": null,
   "metadata": {},
   "outputs": [],
   "source": []
  }
 ],
 "metadata": {
  "kernelspec": {
   "display_name": "Python 3",
   "language": "python",
   "name": "python3"
  },
  "language_info": {
   "codemirror_mode": {
    "name": "ipython",
    "version": 3
   },
   "file_extension": ".py",
   "mimetype": "text/x-python",
   "name": "python",
   "nbconvert_exporter": "python",
   "pygments_lexer": "ipython3",
   "version": "3.8.5"
  }
 },
 "nbformat": 4,
 "nbformat_minor": 4
}
