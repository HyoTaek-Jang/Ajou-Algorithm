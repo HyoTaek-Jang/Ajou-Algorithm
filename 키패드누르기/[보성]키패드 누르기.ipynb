{
 "cells": [
  {
   "cell_type": "code",
   "execution_count": 23,
   "metadata": {},
   "outputs": [],
   "source": [
    "def 왼손거리(현재위치,목표):\n",
    "    if 현재위치 == 0:\n",
    "        현재위치 = 11\n",
    "    if 목표 == 0:\n",
    "        목표 = 11\n",
    "    if 현재위치 in [1,4,7]:\n",
    "        이동 = 1\n",
    "        현재위치 +=1\n",
    "        이동 += abs(목표-현재위치) //3\n",
    "    elif 현재위치 == '*':\n",
    "        이동 = 1\n",
    "        현재위치 = 11\n",
    "        이동 += abs(목표-현재위치) //3\n",
    "    else:\n",
    "        이동 = abs(목표 - 현재위치)//3\n",
    "    return 이동\n",
    "\n",
    "def 오른손거리(현재위치,목표):\n",
    "    if 현재위치 == 0:\n",
    "        현재위치 = 11\n",
    "    if 목표 == 0:\n",
    "        목표 =11\n",
    "    if 현재위치 in [3,6,9]:\n",
    "        이동 = 1\n",
    "        현재위치 -=1\n",
    "        이동 += abs(목표-현재위치) //3\n",
    "    elif 현재위치 == '#':\n",
    "        이동 = 1\n",
    "        현재위치 = 11\n",
    "        이동 += abs(목표-현재위치) //3\n",
    "    else:\n",
    "        이동 = abs(목표 - 현재위치)//3\n",
    "    return 이동\n",
    "\n",
    "def solution(numbers,hand):\n",
    "    answer = []\n",
    "    왼손 = '*'\n",
    "    오른손 = '#'\n",
    "    for number in numbers:\n",
    "        if number in [1,4,7]:\n",
    "            answer.append('L')\n",
    "            왼손 = number\n",
    "        elif number in [3,6,9]:\n",
    "            answer.append('R')\n",
    "            오른손 = number\n",
    "        else:\n",
    "            if 왼손거리(왼손,number) < 오른손거리(오른손,number):\n",
    "                answer.append('L')\n",
    "                왼손 = number\n",
    "            elif 왼손거리(왼손,number) > 오른손거리(오른손,number):\n",
    "                answer.append('R')\n",
    "                오른손 = number\n",
    "            else:\n",
    "                if hand == 'left':\n",
    "                    answer.append('L')\n",
    "                    왼손 = number\n",
    "\n",
    "                else:\n",
    "                    answer.append('R')\n",
    "                    오른손 = number\n",
    "    return ''.join(answer)"
   ]
  },
  {
   "cell_type": "code",
   "execution_count": 24,
   "metadata": {},
   "outputs": [
    {
     "name": "stdout",
     "output_type": "stream",
     "text": [
      "1 2\n",
      "1 3\n",
      "2 1\n",
      "1 1\n",
      "1 2\n"
     ]
    },
    {
     "data": {
      "text/plain": [
       "'LRLLLRLLRRL'"
      ]
     },
     "execution_count": 24,
     "metadata": {},
     "output_type": "execute_result"
    }
   ],
   "source": [
    "solution([1, 3, 4, 5, 8, 2, 1, 4, 5, 9, 5],'right')"
   ]
  },
  {
   "cell_type": "code",
   "execution_count": 25,
   "metadata": {},
   "outputs": [
    {
     "name": "stdout",
     "output_type": "stream",
     "text": [
      "2 1\n",
      "1 1\n",
      "2 3\n",
      "2 1\n",
      "2 2\n",
      "3 2\n"
     ]
    },
    {
     "data": {
      "text/plain": [
       "'LRLLRRLLLRR'"
      ]
     },
     "execution_count": 25,
     "metadata": {},
     "output_type": "execute_result"
    }
   ],
   "source": [
    "solution([7, 0, 8, 2, 8, 3, 1, 5, 7, 6, 2],'left')"
   ]
  },
  {
   "cell_type": "code",
   "execution_count": 26,
   "metadata": {},
   "outputs": [
    {
     "name": "stdout",
     "output_type": "stream",
     "text": [
      "1 4\n",
      "1 2\n",
      "1 2\n",
      "1 2\n"
     ]
    },
    {
     "data": {
      "text/plain": [
       "'LLRLLRLLRL'"
      ]
     },
     "execution_count": 26,
     "metadata": {},
     "output_type": "execute_result"
    }
   ],
   "source": [
    "solution([1, 2, 3, 4, 5, 6, 7, 8, 9, 0],'right')"
   ]
  },
  {
   "cell_type": "code",
   "execution_count": null,
   "metadata": {},
   "outputs": [],
   "source": []
  }
 ],
 "metadata": {
  "kernelspec": {
   "display_name": "Python 3",
   "language": "python",
   "name": "python3"
  },
  "language_info": {
   "codemirror_mode": {
    "name": "ipython",
    "version": 3
   },
   "file_extension": ".py",
   "mimetype": "text/x-python",
   "name": "python",
   "nbconvert_exporter": "python",
   "pygments_lexer": "ipython3",
   "version": "3.6.10"
  }
 },
 "nbformat": 4,
 "nbformat_minor": 4
}
