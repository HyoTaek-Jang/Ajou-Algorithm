{
 "cells": [
  {
   "cell_type": "code",
   "execution_count": 37,
   "metadata": {},
   "outputs": [],
   "source": [
    "import numpy as np\n",
    "\n",
    "def 인형선택(arr):\n",
    "    if sum(arr) == 0:\n",
    "        return 0, arr\n",
    "    else:\n",
    "        for idx in range(len(arr)):\n",
    "            if arr[idx] != 0:\n",
    "                break\n",
    "        선택된인형 = arr[idx]\n",
    "        arr[idx] = 0\n",
    "        return 선택된인형, arr \n",
    "    \n",
    "def solution(board, moves):\n",
    "    answer = 0\n",
    "    board = np.array(board).T # 시간복잡도 O(1)\n",
    "    바구니 = []\n",
    "    for move in moves:\n",
    "        idx = move - 1\n",
    "        선택된인형, 이후상태 = 인형선택(board[idx])\n",
    "        board[idx] = 이후상태\n",
    "        if 선택된인형 !=0:\n",
    "            바구니.append(선택된인형)\n",
    "            if len(바구니) >= 2:\n",
    "                if 바구니[-1] == 바구니[-2]:\n",
    "                    바구니.pop()\n",
    "                    바구니.pop()\n",
    "                    answer +=2\n",
    "    return answer\n",
    "    "
   ]
  },
  {
   "cell_type": "code",
   "execution_count": 38,
   "metadata": {},
   "outputs": [
    {
     "data": {
      "text/plain": [
       "4"
      ]
     },
     "execution_count": 38,
     "metadata": {},
     "output_type": "execute_result"
    }
   ],
   "source": [
    "solution([[0,0,0,0,0],[0,0,1,0,3],[0,2,5,0,1],[4,2,4,4,2],[3,5,1,3,1]],[1,5,3,5,1,2,1,4])"
   ]
  },
  {
   "cell_type": "code",
   "execution_count": null,
   "metadata": {},
   "outputs": [],
   "source": []
  }
 ],
 "metadata": {
  "kernelspec": {
   "display_name": "Python 3",
   "language": "python",
   "name": "python3"
  },
  "language_info": {
   "codemirror_mode": {
    "name": "ipython",
    "version": 3
   },
   "file_extension": ".py",
   "mimetype": "text/x-python",
   "name": "python",
   "nbconvert_exporter": "python",
   "pygments_lexer": "ipython3",
   "version": "3.6.10"
  }
 },
 "nbformat": 4,
 "nbformat_minor": 4
}
